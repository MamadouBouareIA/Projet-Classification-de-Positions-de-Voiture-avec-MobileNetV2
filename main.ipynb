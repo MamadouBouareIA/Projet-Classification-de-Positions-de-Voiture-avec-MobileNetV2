{
 "cells": [
  {
   "cell_type": "markdown",
   "id": "25bef64c",
   "metadata": {},
   "source": [
    "# RECONNAISSANCE DES IMAGES "
   ]
  },
  {
   "cell_type": "code",
   "execution_count": 21,
   "id": "24c6f804",
   "metadata": {},
   "outputs": [],
   "source": [
    "import numpy as np \n",
    "import pandas as pd \n",
    "import matplotlib.pyplot as plt \n",
    "import seaborn as sns # for visualization \n",
    "import tensorflow as tf\n",
    "from tensorflow import keras"
   ]
  },
  {
   "cell_type": "markdown",
   "id": "719abea2",
   "metadata": {},
   "source": [
    "# CLASSIFICATIONS DES IMAGES SUR DOSSIERS "
   ]
  },
  {
   "cell_type": "code",
   "execution_count": 22,
   "id": "d8a3efa7",
   "metadata": {},
   "outputs": [
    {
     "name": "stdout",
     "output_type": "stream",
     "text": [
      " Images triées avec succès dans 'dataset/'\n"
     ]
    }
   ],
   "source": [
    "import os\n",
    "import shutil\n",
    "\n",
    "# Dossier d'origine contenant toutes les images\n",
    "source_dir = \"vehicules/vehicules\"\n",
    "\n",
    "# Nouveau dossier où tu veux trier les images par classe\n",
    "dest_dir = \"dataset\"\n",
    "\n",
    "# Créer les dossiers cibles (s'ils n'existent pas)\n",
    "for label in [\"front\", \"back\", \"left\", \"right\"]:\n",
    "    os.makedirs(os.path.join(dest_dir, label), exist_ok=True)\n",
    "\n",
    "# Parcourir les fichiers et les trier\n",
    "for filename in os.listdir(source_dir):\n",
    "    name = filename.lower()\n",
    "\n",
    "    if name.startswith(\"front\"):\n",
    "        label = \"front\"\n",
    "    elif name.startswith(\"back\"):\n",
    "        label = \"back\"\n",
    "    elif name.startswith(\"left\"):\n",
    "        label = \"left\"\n",
    "    elif name.startswith(\"right\"):\n",
    "        label = \"right\"\n",
    "    else:\n",
    "        continue  # Ignorer si le nom ne correspond à rien\n",
    "\n",
    "    shutil.copy(\n",
    "        os.path.join(source_dir, filename),\n",
    "        os.path.join(dest_dir, label, filename)\n",
    "    )\n",
    "\n",
    "print(\" Images triées avec succès dans 'dataset/'\")\n"
   ]
  },
  {
   "cell_type": "markdown",
   "id": "3ec173b6",
   "metadata": {},
   "source": [
    "# CREATIONS DU MODELS D'INTELLIGENCE ARTIFFICIELLE POUR LA RECONNAISSANCE D'IMAGES "
   ]
  },
  {
   "cell_type": "code",
   "execution_count": 23,
   "id": "130a7540",
   "metadata": {},
   "outputs": [
    {
     "name": "stdout",
     "output_type": "stream",
     "text": [
      "Found 39 images belonging to 4 classes.\n",
      "Found 8 images belonging to 4 classes.\n",
      "Classes : ['back', 'front', 'left', 'right']\n"
     ]
    },
    {
     "data": {
      "text/html": [
       "<pre style=\"white-space:pre;overflow-x:auto;line-height:normal;font-family:Menlo,'DejaVu Sans Mono',consolas,'Courier New',monospace\"><span style=\"font-weight: bold\">Model: \"sequential_3\"</span>\n",
       "</pre>\n"
      ],
      "text/plain": [
       "\u001b[1mModel: \"sequential_3\"\u001b[0m\n"
      ]
     },
     "metadata": {},
     "output_type": "display_data"
    },
    {
     "data": {
      "text/html": [
       "<pre style=\"white-space:pre;overflow-x:auto;line-height:normal;font-family:Menlo,'DejaVu Sans Mono',consolas,'Courier New',monospace\">┏━━━━━━━━━━━━━━━━━━━━━━━━━━━━━━━━━┳━━━━━━━━━━━━━━━━━━━━━━━━┳━━━━━━━━━━━━━━━┓\n",
       "┃<span style=\"font-weight: bold\"> Layer (type)                    </span>┃<span style=\"font-weight: bold\"> Output Shape           </span>┃<span style=\"font-weight: bold\">       Param # </span>┃\n",
       "┡━━━━━━━━━━━━━━━━━━━━━━━━━━━━━━━━━╇━━━━━━━━━━━━━━━━━━━━━━━━╇━━━━━━━━━━━━━━━┩\n",
       "│ mobilenetv2_1.00_224            │ (<span style=\"color: #00d7ff; text-decoration-color: #00d7ff\">None</span>, <span style=\"color: #00af00; text-decoration-color: #00af00\">7</span>, <span style=\"color: #00af00; text-decoration-color: #00af00\">7</span>, <span style=\"color: #00af00; text-decoration-color: #00af00\">1280</span>)     │     <span style=\"color: #00af00; text-decoration-color: #00af00\">2,257,984</span> │\n",
       "│ (<span style=\"color: #0087ff; text-decoration-color: #0087ff\">Functional</span>)                    │                        │               │\n",
       "├─────────────────────────────────┼────────────────────────┼───────────────┤\n",
       "│ global_average_pooling2d_3      │ (<span style=\"color: #00d7ff; text-decoration-color: #00d7ff\">None</span>, <span style=\"color: #00af00; text-decoration-color: #00af00\">1280</span>)           │             <span style=\"color: #00af00; text-decoration-color: #00af00\">0</span> │\n",
       "│ (<span style=\"color: #0087ff; text-decoration-color: #0087ff\">GlobalAveragePooling2D</span>)        │                        │               │\n",
       "├─────────────────────────────────┼────────────────────────┼───────────────┤\n",
       "│ dropout_3 (<span style=\"color: #0087ff; text-decoration-color: #0087ff\">Dropout</span>)             │ (<span style=\"color: #00d7ff; text-decoration-color: #00d7ff\">None</span>, <span style=\"color: #00af00; text-decoration-color: #00af00\">1280</span>)           │             <span style=\"color: #00af00; text-decoration-color: #00af00\">0</span> │\n",
       "├─────────────────────────────────┼────────────────────────┼───────────────┤\n",
       "│ dense_3 (<span style=\"color: #0087ff; text-decoration-color: #0087ff\">Dense</span>)                 │ (<span style=\"color: #00d7ff; text-decoration-color: #00d7ff\">None</span>, <span style=\"color: #00af00; text-decoration-color: #00af00\">4</span>)              │         <span style=\"color: #00af00; text-decoration-color: #00af00\">5,124</span> │\n",
       "└─────────────────────────────────┴────────────────────────┴───────────────┘\n",
       "</pre>\n"
      ],
      "text/plain": [
       "┏━━━━━━━━━━━━━━━━━━━━━━━━━━━━━━━━━┳━━━━━━━━━━━━━━━━━━━━━━━━┳━━━━━━━━━━━━━━━┓\n",
       "┃\u001b[1m \u001b[0m\u001b[1mLayer (type)                   \u001b[0m\u001b[1m \u001b[0m┃\u001b[1m \u001b[0m\u001b[1mOutput Shape          \u001b[0m\u001b[1m \u001b[0m┃\u001b[1m \u001b[0m\u001b[1m      Param #\u001b[0m\u001b[1m \u001b[0m┃\n",
       "┡━━━━━━━━━━━━━━━━━━━━━━━━━━━━━━━━━╇━━━━━━━━━━━━━━━━━━━━━━━━╇━━━━━━━━━━━━━━━┩\n",
       "│ mobilenetv2_1.00_224            │ (\u001b[38;5;45mNone\u001b[0m, \u001b[38;5;34m7\u001b[0m, \u001b[38;5;34m7\u001b[0m, \u001b[38;5;34m1280\u001b[0m)     │     \u001b[38;5;34m2,257,984\u001b[0m │\n",
       "│ (\u001b[38;5;33mFunctional\u001b[0m)                    │                        │               │\n",
       "├─────────────────────────────────┼────────────────────────┼───────────────┤\n",
       "│ global_average_pooling2d_3      │ (\u001b[38;5;45mNone\u001b[0m, \u001b[38;5;34m1280\u001b[0m)           │             \u001b[38;5;34m0\u001b[0m │\n",
       "│ (\u001b[38;5;33mGlobalAveragePooling2D\u001b[0m)        │                        │               │\n",
       "├─────────────────────────────────┼────────────────────────┼───────────────┤\n",
       "│ dropout_3 (\u001b[38;5;33mDropout\u001b[0m)             │ (\u001b[38;5;45mNone\u001b[0m, \u001b[38;5;34m1280\u001b[0m)           │             \u001b[38;5;34m0\u001b[0m │\n",
       "├─────────────────────────────────┼────────────────────────┼───────────────┤\n",
       "│ dense_3 (\u001b[38;5;33mDense\u001b[0m)                 │ (\u001b[38;5;45mNone\u001b[0m, \u001b[38;5;34m4\u001b[0m)              │         \u001b[38;5;34m5,124\u001b[0m │\n",
       "└─────────────────────────────────┴────────────────────────┴───────────────┘\n"
      ]
     },
     "metadata": {},
     "output_type": "display_data"
    },
    {
     "data": {
      "text/html": [
       "<pre style=\"white-space:pre;overflow-x:auto;line-height:normal;font-family:Menlo,'DejaVu Sans Mono',consolas,'Courier New',monospace\"><span style=\"font-weight: bold\"> Total params: </span><span style=\"color: #00af00; text-decoration-color: #00af00\">2,263,108</span> (8.63 MB)\n",
       "</pre>\n"
      ],
      "text/plain": [
       "\u001b[1m Total params: \u001b[0m\u001b[38;5;34m2,263,108\u001b[0m (8.63 MB)\n"
      ]
     },
     "metadata": {},
     "output_type": "display_data"
    },
    {
     "data": {
      "text/html": [
       "<pre style=\"white-space:pre;overflow-x:auto;line-height:normal;font-family:Menlo,'DejaVu Sans Mono',consolas,'Courier New',monospace\"><span style=\"font-weight: bold\"> Trainable params: </span><span style=\"color: #00af00; text-decoration-color: #00af00\">5,124</span> (20.02 KB)\n",
       "</pre>\n"
      ],
      "text/plain": [
       "\u001b[1m Trainable params: \u001b[0m\u001b[38;5;34m5,124\u001b[0m (20.02 KB)\n"
      ]
     },
     "metadata": {},
     "output_type": "display_data"
    },
    {
     "data": {
      "text/html": [
       "<pre style=\"white-space:pre;overflow-x:auto;line-height:normal;font-family:Menlo,'DejaVu Sans Mono',consolas,'Courier New',monospace\"><span style=\"font-weight: bold\"> Non-trainable params: </span><span style=\"color: #00af00; text-decoration-color: #00af00\">2,257,984</span> (8.61 MB)\n",
       "</pre>\n"
      ],
      "text/plain": [
       "\u001b[1m Non-trainable params: \u001b[0m\u001b[38;5;34m2,257,984\u001b[0m (8.61 MB)\n"
      ]
     },
     "metadata": {},
     "output_type": "display_data"
    },
    {
     "name": "stdout",
     "output_type": "stream",
     "text": [
      "Epoch 1/10\n"
     ]
    },
    {
     "name": "stderr",
     "output_type": "stream",
     "text": [
      "c:\\Users\\user\\AppData\\Local\\Programs\\Python\\Python312\\Lib\\site-packages\\keras\\src\\trainers\\data_adapters\\py_dataset_adapter.py:122: UserWarning: Your `PyDataset` class should call `super().__init__(**kwargs)` in its constructor. `**kwargs` can include `workers`, `use_multiprocessing`, `max_queue_size`. Do not pass these arguments to `fit()`, as they will be ignored.\n",
      "  self._warn_if_super_not_called()\n"
     ]
    },
    {
     "name": "stdout",
     "output_type": "stream",
     "text": [
      "\u001b[1m2/2\u001b[0m \u001b[32m━━━━━━━━━━━━━━━━━━━━\u001b[0m\u001b[37m\u001b[0m \u001b[1m10s\u001b[0m 3s/step - accuracy: 0.2833 - loss: 1.8325 - val_accuracy: 0.3750 - val_loss: 1.5468\n",
      "Epoch 2/10\n",
      "\u001b[1m2/2\u001b[0m \u001b[32m━━━━━━━━━━━━━━━━━━━━\u001b[0m\u001b[37m\u001b[0m \u001b[1m3s\u001b[0m 813ms/step - accuracy: 0.2818 - loss: 1.7864 - val_accuracy: 0.3750 - val_loss: 1.2657\n",
      "Epoch 3/10\n",
      "\u001b[1m2/2\u001b[0m \u001b[32m━━━━━━━━━━━━━━━━━━━━\u001b[0m\u001b[37m\u001b[0m \u001b[1m4s\u001b[0m 801ms/step - accuracy: 0.3368 - loss: 1.6321 - val_accuracy: 0.3750 - val_loss: 1.5520\n",
      "Epoch 4/10\n",
      "\u001b[1m2/2\u001b[0m \u001b[32m━━━━━━━━━━━━━━━━━━━━\u001b[0m\u001b[37m\u001b[0m \u001b[1m3s\u001b[0m 781ms/step - accuracy: 0.3643 - loss: 1.6217 - val_accuracy: 0.6250 - val_loss: 1.1884\n",
      "Epoch 5/10\n",
      "\u001b[1m2/2\u001b[0m \u001b[32m━━━━━━━━━━━━━━━━━━━━\u001b[0m\u001b[37m\u001b[0m \u001b[1m3s\u001b[0m 750ms/step - accuracy: 0.2543 - loss: 1.4901 - val_accuracy: 0.5000 - val_loss: 1.5413\n",
      "Epoch 6/10\n",
      "\u001b[1m2/2\u001b[0m \u001b[32m━━━━━━━━━━━━━━━━━━━━\u001b[0m\u001b[37m\u001b[0m \u001b[1m3s\u001b[0m 750ms/step - accuracy: 0.3301 - loss: 1.5665 - val_accuracy: 0.5000 - val_loss: 1.3319\n",
      "Epoch 7/10\n",
      "\u001b[1m2/2\u001b[0m \u001b[32m━━━━━━━━━━━━━━━━━━━━\u001b[0m\u001b[37m\u001b[0m \u001b[1m3s\u001b[0m 816ms/step - accuracy: 0.3643 - loss: 1.6026 - val_accuracy: 0.3750 - val_loss: 1.2684\n",
      "Epoch 8/10\n",
      "\u001b[1m2/2\u001b[0m \u001b[32m━━━━━━━━━━━━━━━━━━━━\u001b[0m\u001b[37m\u001b[0m \u001b[1m3s\u001b[0m 1s/step - accuracy: 0.3687 - loss: 1.3261 - val_accuracy: 0.5000 - val_loss: 1.0850\n",
      "Epoch 9/10\n",
      "\u001b[1m2/2\u001b[0m \u001b[32m━━━━━━━━━━━━━━━━━━━━\u001b[0m\u001b[37m\u001b[0m \u001b[1m3s\u001b[0m 762ms/step - accuracy: 0.3576 - loss: 1.4667 - val_accuracy: 0.5000 - val_loss: 1.2631\n",
      "Epoch 10/10\n",
      "\u001b[1m2/2\u001b[0m \u001b[32m━━━━━━━━━━━━━━━━━━━━\u001b[0m\u001b[37m\u001b[0m \u001b[1m3s\u001b[0m 761ms/step - accuracy: 0.3918 - loss: 1.5061 - val_accuracy: 0.6250 - val_loss: 1.1438\n",
      "Epoch 1/10\n",
      "\u001b[1m2/2\u001b[0m \u001b[32m━━━━━━━━━━━━━━━━━━━━\u001b[0m\u001b[37m\u001b[0m \u001b[1m14s\u001b[0m 3s/step - accuracy: 0.4127 - loss: 1.3982 - val_accuracy: 0.5000 - val_loss: 1.1841\n",
      "Epoch 2/10\n",
      "\u001b[1m2/2\u001b[0m \u001b[32m━━━━━━━━━━━━━━━━━━━━\u001b[0m\u001b[37m\u001b[0m \u001b[1m4s\u001b[0m 844ms/step - accuracy: 0.4089 - loss: 1.2195 - val_accuracy: 0.5000 - val_loss: 0.9974\n",
      "Epoch 3/10\n",
      "\u001b[1m2/2\u001b[0m \u001b[32m━━━━━━━━━━━━━━━━━━━━\u001b[0m\u001b[37m\u001b[0m \u001b[1m4s\u001b[0m 2s/step - accuracy: 0.3516 - loss: 1.3510 - val_accuracy: 0.5000 - val_loss: 1.1471\n",
      "Epoch 4/10\n",
      "\u001b[1m2/2\u001b[0m \u001b[32m━━━━━━━━━━━━━━━━━━━━\u001b[0m\u001b[37m\u001b[0m \u001b[1m4s\u001b[0m 2s/step - accuracy: 0.2527 - loss: 1.2655 - val_accuracy: 0.3750 - val_loss: 1.2097\n",
      "Epoch 5/10\n",
      "\u001b[1m2/2\u001b[0m \u001b[32m━━━━━━━━━━━━━━━━━━━━\u001b[0m\u001b[37m\u001b[0m \u001b[1m4s\u001b[0m 2s/step - accuracy: 0.3346 - loss: 1.2746 - val_accuracy: 0.7500 - val_loss: 0.9455\n",
      "Epoch 6/10\n",
      "\u001b[1m2/2\u001b[0m \u001b[32m━━━━━━━━━━━━━━━━━━━━\u001b[0m\u001b[37m\u001b[0m \u001b[1m4s\u001b[0m 834ms/step - accuracy: 0.4639 - loss: 1.2119 - val_accuracy: 0.5000 - val_loss: 1.3398\n",
      "Epoch 7/10\n",
      "\u001b[1m2/2\u001b[0m \u001b[32m━━━━━━━━━━━━━━━━━━━━\u001b[0m\u001b[37m\u001b[0m \u001b[1m4s\u001b[0m 2s/step - accuracy: 0.4847 - loss: 1.1263 - val_accuracy: 0.6250 - val_loss: 0.8685\n",
      "Epoch 8/10\n",
      "\u001b[1m2/2\u001b[0m \u001b[32m━━━━━━━━━━━━━━━━━━━━\u001b[0m\u001b[37m\u001b[0m \u001b[1m4s\u001b[0m 824ms/step - accuracy: 0.5256 - loss: 1.1325 - val_accuracy: 0.7500 - val_loss: 0.8595\n",
      "Epoch 9/10\n",
      "\u001b[1m2/2\u001b[0m \u001b[32m━━━━━━━━━━━━━━━━━━━━\u001b[0m\u001b[37m\u001b[0m \u001b[1m4s\u001b[0m 816ms/step - accuracy: 0.5256 - loss: 1.1411 - val_accuracy: 0.6250 - val_loss: 0.9410\n",
      "Epoch 10/10\n",
      "\u001b[1m2/2\u001b[0m \u001b[32m━━━━━━━━━━━━━━━━━━━━\u001b[0m\u001b[37m\u001b[0m \u001b[1m4s\u001b[0m 836ms/step - accuracy: 0.5427 - loss: 1.1321 - val_accuracy: 0.5000 - val_loss: 1.0289\n",
      "\u001b[1m1/1\u001b[0m \u001b[32m━━━━━━━━━━━━━━━━━━━━\u001b[0m\u001b[37m\u001b[0m \u001b[1m2s\u001b[0m 2s/step\n",
      "Classification Report :\n",
      "              precision    recall  f1-score   support\n",
      "\n",
      "        back       1.00      1.00      1.00         2\n",
      "       front       1.00      1.00      1.00         2\n",
      "        left       0.33      0.50      0.40         2\n",
      "       right       0.00      0.00      0.00         2\n",
      "\n",
      "    accuracy                           0.62         8\n",
      "   macro avg       0.58      0.62      0.60         8\n",
      "weighted avg       0.58      0.62      0.60         8\n",
      "\n"
     ]
    },
    {
     "data": {
      "image/png": "[encoded data removed]",
      "text/plain": [
       "<Figure size 640x480 with 2 Axes>"
      ]
     },
     "metadata": {},
     "output_type": "display_data"
    },
    {
     "name": "stdout",
     "output_type": "stream",
     "text": [
      "Modèle sauvegardé dans 'model_voiture_professionnel.keras'\n"
     ]
    }
   ],
   "source": [
    "import os\n",
    "import matplotlib.pyplot as plt\n",
    "import numpy as np\n",
    "import tensorflow as tf\n",
    "from tensorflow.keras.preprocessing.image import ImageDataGenerator\n",
    "from tensorflow.keras.applications import MobileNetV2  # Modèle pré-entraîné \n",
    "from tensorflow.keras import layers, models \n",
    "from tensorflow.keras.optimizers import Adam\n",
    "from sklearn.metrics import confusion_matrix, ConfusionMatrixDisplay, classification_report\n",
    "\n",
    "# --- 1. Chemins et paramètres ---\n",
    "\n",
    "dataset_dir = \"dataset\"   # dossier avec sous-dossiers front, back, left, right\n",
    "img_size = (224, 224)\n",
    "batch_size = 32\n",
    "num_classes = 4\n",
    "\n",
    "# --- 2. Préparation des données ---\n",
    "\n",
    "datagen = ImageDataGenerator(\n",
    "    preprocessing_function=tf.keras.applications.mobilenet_v2.preprocess_input,\n",
    "    validation_split=0.2,\n",
    "    rotation_range=20,\n",
    "    zoom_range=0.15,\n",
    "    width_shift_range=0.1,\n",
    "    height_shift_range=0.1,\n",
    "    horizontal_flip=True\n",
    ")\n",
    "\n",
    "train_gen = datagen.flow_from_directory(\n",
    "    dataset_dir,\n",
    "    target_size=img_size,\n",
    "    batch_size=batch_size,\n",
    "    class_mode='categorical',\n",
    "    subset='training',\n",
    "    shuffle=True\n",
    ")\n",
    "\n",
    "val_gen = datagen.flow_from_directory(\n",
    "    dataset_dir,\n",
    "    target_size=img_size,\n",
    "    batch_size=batch_size,\n",
    "    class_mode='categorical',\n",
    "    subset='validation',\n",
    "    shuffle=False\n",
    ")\n",
    "\n",
    "class_names = list(train_gen.class_indices.keys())\n",
    "print(\"Classes :\", class_names)\n",
    "\n",
    "# --- 3. Construction du modèle ---\n",
    "\n",
    "base_model = MobileNetV2(input_shape=img_size + (3,),\n",
    "                         include_top=False,\n",
    "                         weights='imagenet')\n",
    "base_model.trainable = False  # Geler les poids pré-entraînés\n",
    "\n",
    "model = models.Sequential([\n",
    "    base_model,\n",
    "    layers.GlobalAveragePooling2D(),\n",
    "    layers.Dropout(0.3),\n",
    "    layers.Dense(num_classes, activation='softmax')\n",
    "])\n",
    "\n",
    "model.compile(optimizer=Adam(learning_rate=1e-4),\n",
    "              loss='categorical_crossentropy',\n",
    "              metrics=['accuracy'])\n",
    "\n",
    "model.summary()\n",
    "\n",
    "# --- 4. Entraînement initial ---\n",
    "\n",
    "epochs_initial = 10\n",
    "history = model.fit(\n",
    "    train_gen,\n",
    "    validation_data=val_gen,\n",
    "    epochs=epochs_initial\n",
    ")\n",
    "\n",
    "# --- 5. Fine-tuning ---\n",
    "\n",
    "base_model.trainable = True\n",
    "\n",
    "# Ne débloquer que les dernières couches (exemple: 30 dernières)\n",
    "for layer in base_model.layers[:-30]:\n",
    "    layer.trainable = False\n",
    "\n",
    "model.compile(optimizer=Adam(learning_rate=1e-5),\n",
    "              loss='categorical_crossentropy',\n",
    "              metrics=['accuracy'])\n",
    "\n",
    "epochs_finetune = 10\n",
    "history_fine = model.fit(\n",
    "    train_gen,\n",
    "    validation_data=val_gen,\n",
    "    epochs=epochs_finetune\n",
    ")\n",
    "\n",
    "# --- 6. Évaluation détaillée ---\n",
    "\n",
    "val_gen.reset()\n",
    "predictions = model.predict(val_gen)\n",
    "y_pred = np.argmax(predictions, axis=1)\n",
    "y_true = val_gen.classes\n",
    "\n",
    "print(\"Classification Report :\")\n",
    "print(classification_report(y_true, y_pred, target_names=class_names))\n",
    "\n",
    "cm = confusion_matrix(y_true, y_pred)\n",
    "disp = ConfusionMatrixDisplay(confusion_matrix=cm, display_labels=class_names)\n",
    "disp.plot(cmap=plt.cm.Blues)\n",
    "plt.title(\"Matrice de confusion\")\n",
    "plt.show()\n",
    "\n",
    "# --- 7. Sauvegarde du modèle ---\n",
    "\n",
    "model.save(\"model_voiture_professionnel.keras\")\n",
    "print(\"Modèle sauvegardé dans 'model_voiture_professionnel.keras'\")\n",
    "\n",
    "# --- 8. Fonction prédiction sur image unique ---\n",
    "\n",
    "def predict_image(model, img_path):\n",
    "    from tensorflow.keras.preprocessing import image\n",
    "    img = image.load_img(img_path, target_size=img_size)\n",
    "    img_array = image.img_to_array(img)\n",
    "    img_array = np.expand_dims(img_array, axis=0)\n",
    "    img_array = tf.keras.applications.mobilenet_v2.preprocess_input(img_array)\n",
    "\n",
    "    preds = model.predict(img_array)\n",
    "    idx = np.argmax(preds[0])\n",
    "    class_pred = class_names[idx]\n",
    "    confidence = preds[0][idx]\n",
    "\n",
    "    print(f\"Image : {img_path}\")\n",
    "    print(f\"Classe prédite : {class_pred} (probabilité : {confidence:.2f})\")\n",
    "    return class_pred, confidence\n",
    "\n",
    "# Exemple d'utilisation :  \n",
    "# predict_image(model, \"chemin/vers/image_test.jpg\")\n"
   ]
  },
  {
   "cell_type": "markdown",
   "id": "def6acac",
   "metadata": {},
   "source": [
    "#  pour prédire une image unique"
   ]
  },
  {
   "cell_type": "code",
   "execution_count": 24,
   "id": "c5faaf6b",
   "metadata": {},
   "outputs": [
    {
     "name": "stdout",
     "output_type": "stream",
     "text": [
      "\u001b[1m1/1\u001b[0m \u001b[32m━━━━━━━━━━━━━━━━━━━━\u001b[0m\u001b[37m\u001b[0m \u001b[1m1s\u001b[0m 1s/step\n",
      "Classe prédite : left avec une probabilité de 0.43\n"
     ]
    }
   ],
   "source": [
    "from tensorflow.keras.preprocessing import image\n",
    "import numpy as np\n",
    "import tensorflow as tf\n",
    "\n",
    "# Charger le modèle sauvegardé\n",
    "model = tf.keras.models.load_model(\"model_voiture_professionnel.keras\")\n",
    "\n",
    "# Classes (dans l'ordre du modèle)\n",
    "class_names = [\"back\", \"front\", \"left\", \"right\"]  # adapte selon ton dataset\n",
    "\n",
    "# Chemin de l'image à prédire\n",
    "img_path = \"dataset/left/LEFT_1732093686340343.jpg\" # remplace par le chemin réel\n",
    "\n",
    "# Charger l'image et la redimensionner à 224x224\n",
    "img = image.load_img(img_path, target_size=(224, 224))\n",
    "\n",
    "# Convertir en tableau numpy\n",
    "img_array = image.img_to_array(img)\n",
    "\n",
    "# Ajouter la dimension batch (1, 224, 224, 3)\n",
    "img_array = np.expand_dims(img_array, axis=0)\n",
    "\n",
    "# Prétraitement spécifique MobileNetV2\n",
    "img_array = tf.keras.applications.mobilenet_v2.preprocess_input(img_array)\n",
    "\n",
    "# Faire la prédiction\n",
    "preds = model.predict(img_array)\n",
    "\n",
    "# Trouver l'indice de la classe prédite\n",
    "predicted_class_idx = np.argmax(preds[0])\n",
    "\n",
    "# Afficher le résultat\n",
    "print(f\"Classe prédite : {class_names[predicted_class_idx]} avec une probabilité de {preds[0][predicted_class_idx]:.2f}\")\n"
   ]
  },
  {
   "cell_type": "code",
   "execution_count": 2,
   "id": "a7ce772b",
   "metadata": {},
   "outputs": [
    {
     "name": "stderr",
     "output_type": "stream",
     "text": [
      "2025-07-15 16:48:21.006 Thread 'MainThread': missing ScriptRunContext! This warning can be ignored when running in bare mode.\n",
      "2025-07-15 16:48:21.013 Thread 'MainThread': missing ScriptRunContext! This warning can be ignored when running in bare mode.\n",
      "2025-07-15 16:48:21.013 Thread 'MainThread': missing ScriptRunContext! This warning can be ignored when running in bare mode.\n",
      "2025-07-15 16:48:21.014 Thread 'MainThread': missing ScriptRunContext! This warning can be ignored when running in bare mode.\n",
      "2025-07-15 16:48:21.015 Thread 'MainThread': missing ScriptRunContext! This warning can be ignored when running in bare mode.\n",
      "2025-07-15 16:48:21.016 Thread 'MainThread': missing ScriptRunContext! This warning can be ignored when running in bare mode.\n",
      "2025-07-15 16:48:21.017 Thread 'MainThread': missing ScriptRunContext! This warning can be ignored when running in bare mode.\n",
      "2025-07-15 16:48:21.018 Thread 'MainThread': missing ScriptRunContext! This warning can be ignored when running in bare mode.\n",
      "2025-07-15 16:48:21.018 Thread 'MainThread': missing ScriptRunContext! This warning can be ignored when running in bare mode.\n",
      "2025-07-15 16:48:21.020 Thread 'MainThread': missing ScriptRunContext! This warning can be ignored when running in bare mode.\n",
      "2025-07-15 16:48:21.020 Thread 'MainThread': missing ScriptRunContext! This warning can be ignored when running in bare mode.\n",
      "2025-07-15 16:48:21.021 Thread 'MainThread': missing ScriptRunContext! This warning can be ignored when running in bare mode.\n"
     ]
    }
   ],
   "source": [
    "import streamlit as st\n",
    "import tensorflow as tf\n",
    "import numpy as np\n",
    "from tensorflow.keras.models import load_model\n",
    "from tensorflow.keras.preprocessing import image\n",
    "import io\n",
    "from PIL import Image\n",
    "\n",
    "# Charger le modèle entraîné\n",
    "model_path = \"model_voiture_professionnel.keras\"\n",
    "model = load_model(model_path)\n",
    "\n",
    "# Correspondance des classes\n",
    "class_names = ['back', 'front', 'left', 'right']   # ajuste si tes classes sont dans un autre ordre\n",
    "\n",
    "# Taille d’image attendue\n",
    "img_size = (224, 224)\n",
    "\n",
    "st.title(\"Détection de Vue de Voiture\")\n",
    "st.write(\"Téléversez une photo de voiture (face, arrière, gauche ou droite), et le modèle prédit la vue correspondante.\")\n",
    "\n",
    "uploaded_file = st.file_uploader(\"Choisissez une image...\", type=[\"jpg\", \"jpeg\", \"png\"])\n",
    "\n",
    "if uploaded_file is not None:\n",
    "    # Lire l'image uploadée\n",
    "    image_data = uploaded_file.read()\n",
    "    pil_img = Image.open(io.BytesIO(image_data)).convert(\"RGB\")\n",
    "    \n",
    "    st.image(pil_img, caption=\"Image chargée\", use_column_width=True)\n",
    "    \n",
    "    # Prétraitement pour MobileNetV2\n",
    "    img_resized = pil_img.resize(img_size)\n",
    "    img_array = image.img_to_array(img_resized)\n",
    "    img_array = np.expand_dims(img_array, axis=0)\n",
    "    img_array = tf.keras.applications.mobilenet_v2.preprocess_input(img_array)\n",
    "    \n",
    "    # Prédiction\n",
    "    preds = model.predict(img_array)\n",
    "    idx = np.argmax(preds[0])\n",
    "    class_pred = class_names[idx]\n",
    "    confidence = preds[0][idx]\n",
    "    \n",
    "    st.write(f\"**Classe prédite :** {class_pred}\")\n",
    "    st.write(f\"**Probabilité :** {confidence:.2f}\")\n"
   ]
  }
 ],
 "metadata": {
  "kernelspec": {
   "display_name": "Python 3",
   "language": "python",
   "name": "python3"
  },
  "language_info": {
   "codemirror_mode": {
    "name": "ipython",
    "version": 3
   },
   "file_extension": ".py",
   "mimetype": "text/x-python",
   "name": "python",
   "nbconvert_exporter": "python",
   "pygments_lexer": "ipython3",
   "version": "3.12.5"
  }
 },
 "nbformat": 4,
 "nbformat_minor": 5
}
